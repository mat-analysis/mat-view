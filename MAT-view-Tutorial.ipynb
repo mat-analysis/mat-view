{
 "cells": [
  {
   "cell_type": "markdown",
   "metadata": {},
   "source": [
    "# MAT-view: Visualization Tools for Multiple Aspect Trajectory Data Mining \\[MAT-Tools Framework\\]\n",
    "\n",
    "Sample Code in python notebook to use mat-view as a **web application**.\n",
    "\n",
    "The present package offers a tool, to support the user in the task of visualizing multiple aspect trajectories and movelets. It integrates into a unique framework for multiple aspects trajectories and in general for multidimensional sequence data mining methods.\n",
    "\n",
    "Created on Apr, 2024\n",
    "Copyright (C) 2024, License GPL Version 3 or superior (see LICENSE file)"
   ]
  },
  {
   "cell_type": "code",
   "execution_count": 1,
   "metadata": {
    "tags": []
   },
   "outputs": [
    {
     "name": "stdout",
     "output_type": "stream",
     "text": [
      "\u001b[31mERROR: Could not find a version that satisfies the requirement mat-view (from versions: none)\u001b[0m\u001b[31m\n",
      "\u001b[0m\u001b[31mERROR: No matching distribution found for mat-view\u001b[0m\u001b[31m\n",
      "\u001b[0m"
     ]
    }
   ],
   "source": [
    "!pip install mat-view"
   ]
  },
  {
   "cell_type": "markdown",
   "metadata": {
    "tags": []
   },
   "source": [
    "### 1. Running the Web-app\n"
   ]
  },
  {
   "cell_type": "code",
   "execution_count": 1,
   "metadata": {},
   "outputs": [
    {
     "data": {
      "text/plain": [
       "{'H': matview.scripting.component.hiper.HiperMovelets,\n",
       " 'U': matview.scripting.component.ultra.UltraMovelets,\n",
       " 'R': matview.scripting.component.ultra.RandomMovelets,\n",
       " 'MARC': matview.scripting.component.marc.MARC,\n",
       " 'poi': matview.scripting.component.pois.POI,\n",
       " 'npoi': matview.scripting.component.pois.NPOI,\n",
       " 'wnpoi': matview.scripting.component.pois.WNPOI,\n",
       " 'TRF': matview.scripting.component.mat.TRF,\n",
       " 'TXGB': matview.scripting.component.mat.TXGB,\n",
       " 'DeepeST': matview.scripting.component.mat.DeepeST,\n",
       " 'Tulvae': matview.scripting.component.mat.Tulvae,\n",
       " 'Bituler': matview.scripting.component.mat.Bituler,\n",
       " 'MM': matview.scripting.component.master.MasterMovelets,\n",
       " 'SM': matview.scripting.component.super.SuperMovelets,\n",
       " 'Dodge': matview.scripting.component.raw.Dodge,\n",
       " 'Xiao': matview.scripting.component.raw.Xiao,\n",
       " 'Zheng': matview.scripting.component.raw.Zheng,\n",
       " 'M': matview.scripting.component.raw.Movelets}"
      ]
     },
     "execution_count": 1,
     "metadata": {},
     "output_type": "execute_result"
    }
   ],
   "source": [
    "from matview.scripting.component._base import BaseMethod\n",
    "\n",
    "BaseMethod.providedMethods()"
   ]
  },
  {
   "cell_type": "code",
   "execution_count": 5,
   "metadata": {},
   "outputs": [],
   "source": [
    "import os\n",
    "import glob2 as glob\n",
    "def getResultFiles(res_path, patterns = []):\n",
    "    def findFiles(x):\n",
    "        search = os.path.join(res_path, '**', x)\n",
    "        return list(glob.glob(search, recursive=True))\n",
    "       \n",
    "    filesList = sum(list(map(lambda p: findFiles(p), patterns)), [])\n",
    "\n",
    "    filesList = list(set(filesList))\n",
    "    \n",
    "#    filesList = list(filter(lambda file: 'POI' not in os.path.basename(file).split('-')[0], filesList))\n",
    "    \n",
    "    filesList.sort()\n",
    "    \n",
    "    return filesList"
   ]
  },
  {
   "cell_type": "code",
   "execution_count": 73,
   "metadata": {
    "tags": []
   },
   "outputs": [],
   "source": [
    "respath = '/Users/tarlisportela/Downloads/sample/results'\n",
    "\n",
    "patterns = ['model_*_summary.csv', '*.txt']\n",
    "\n",
    "#files = getResultFiles(respath, patterns)"
   ]
  },
  {
   "cell_type": "code",
   "execution_count": 58,
   "metadata": {},
   "outputs": [
    {
     "data": {
      "text/plain": [
       "False"
      ]
     },
     "execution_count": 58,
     "metadata": {},
     "output_type": "execute_result"
    }
   ],
   "source": [
    "Path('/Users/tarlisportela/Downloads/sample/results/FoursquareNYC/HL/model/test.csv').match('model_*_summary.csv')"
   ]
  },
  {
   "cell_type": "code",
   "execution_count": 30,
   "metadata": {},
   "outputs": [],
   "source": [
    "def find_files(directory, pattern='*'):\n",
    "    if not os.path.exists(directory):\n",
    "        raise ValueError(\"Directory not found {}\".format(directory))\n",
    "\n",
    "    matches = []\n",
    "    for root, dirnames, filenames in os.walk(directory):\n",
    "        for filename in filenames:\n",
    "            full_path = os.path.join(root, filename)\n",
    "            if fnmatch.filter([full_path], pattern):\n",
    "                matches.append(os.path.join(root, filename))\n",
    "    return matches"
   ]
  },
  {
   "cell_type": "code",
   "execution_count": 110,
   "metadata": {},
   "outputs": [],
   "source": [
    "def listpath(path, patterns):\n",
    "    def match(f, patterns):\n",
    "        return any(map(lambda x: Path(f).match(x), patterns))\n",
    "    \n",
    "    files = {}\n",
    "    for f in os.scandir(path):\n",
    "        f2 = os.path.join(path, f)\n",
    "        if os.path.isdir(f):\n",
    "            d = os.path.basename(f2)\n",
    "            subfiles = listpath(f2, patterns)\n",
    "            if len(subfiles) > 0:\n",
    "                files.update({d: subfiles})\n",
    "        else:\n",
    "            if match(f2, patterns):\n",
    "                files.update({Path(f2): None})\n",
    "    return files"
   ]
  },
  {
   "cell_type": "code",
   "execution_count": 111,
   "metadata": {
    "tags": []
   },
   "outputs": [
    {
     "data": {
      "text/plain": [
       "{'FoursquareNYC': {'MML': {PosixPath('/Users/tarlisportela/Downloads/sample/results/FoursquareNYC/MML/MML.txt'): None},\n",
       "  'MMp': {PosixPath('/Users/tarlisportela/Downloads/sample/results/FoursquareNYC/MMp/MMp.txt'): None},\n",
       "  'MARC_150_add_gru': {PosixPath('/Users/tarlisportela/Downloads/sample/results/FoursquareNYC/MARC_150_add_gru/MARC_150_add_gru.txt'): None},\n",
       "  'Xiao': {PosixPath('/Users/tarlisportela/Downloads/sample/results/FoursquareNYC/Xiao/Xiao.txt'): None},\n",
       "  'MMpL': {PosixPath('/Users/tarlisportela/Downloads/sample/results/FoursquareNYC/MMpL/MMpL.txt'): None},\n",
       "  'SM': {PosixPath('/Users/tarlisportela/Downloads/sample/results/FoursquareNYC/SM/SM.txt'): None},\n",
       "  'DeepeST': {'DeepeST': {PosixPath('/Users/tarlisportela/Downloads/sample/results/FoursquareNYC/DeepeST/DeepeST/model_deepest_summary.csv'): None},\n",
       "   PosixPath('/Users/tarlisportela/Downloads/sample/results/FoursquareNYC/DeepeST/DeepeST.txt'): None},\n",
       "  'HL': {PosixPath('/Users/tarlisportela/Downloads/sample/results/FoursquareNYC/HL/HL.txt'): None,\n",
       "   'model': {PosixPath('/Users/tarlisportela/Downloads/sample/results/FoursquareNYC/HL/model/model_mrf_summary.csv'): None,\n",
       "    PosixPath('/Users/tarlisportela/Downloads/sample/results/FoursquareNYC/HL/model/model_mmlp_summary.csv'): None,\n",
       "    PosixPath('/Users/tarlisportela/Downloads/sample/results/FoursquareNYC/HL/model/model_msvc_summary.csv'): None}},\n",
       "  'Hp': {'model': {PosixPath('/Users/tarlisportela/Downloads/sample/results/FoursquareNYC/Hp/model/model_mrf_summary.csv'): None,\n",
       "    PosixPath('/Users/tarlisportela/Downloads/sample/results/FoursquareNYC/Hp/model/model_mmlp_summary.csv'): None,\n",
       "    PosixPath('/Users/tarlisportela/Downloads/sample/results/FoursquareNYC/Hp/model/model_msvc_summary.csv'): None},\n",
       "   PosixPath('/Users/tarlisportela/Downloads/sample/results/FoursquareNYC/Hp/Hp.txt'): None},\n",
       "  'WNPOI_space_1_2_3_4': {PosixPath('/Users/tarlisportela/Downloads/sample/results/FoursquareNYC/WNPOI_space_1_2_3_4/WNPOI_space_1_2_3_4.txt'): None},\n",
       "  'TRF': {'TRF': {PosixPath('/Users/tarlisportela/Downloads/sample/results/FoursquareNYC/TRF/TRF/model_trf_summary.csv'): None},\n",
       "   PosixPath('/Users/tarlisportela/Downloads/sample/results/FoursquareNYC/TRF/TRF.txt'): None},\n",
       "  'HpLT50': {PosixPath('/Users/tarlisportela/Downloads/sample/results/FoursquareNYC/HpLT50/HpLT50.txt'): None,\n",
       "   'model': {PosixPath('/Users/tarlisportela/Downloads/sample/results/FoursquareNYC/HpLT50/model/model_mrf_summary.csv'): None,\n",
       "    PosixPath('/Users/tarlisportela/Downloads/sample/results/FoursquareNYC/HpLT50/model/model_mmlp_summary.csv'): None,\n",
       "    PosixPath('/Users/tarlisportela/Downloads/sample/results/FoursquareNYC/HpLT50/model/model_msvc_summary.csv'): None}},\n",
       "  'NPOI_poi_1_2': {'NPOI-poi_1_2': {'npoi_poi_1_2': {PosixPath('/Users/tarlisportela/Downloads/sample/results/FoursquareNYC/NPOI_poi_1_2/NPOI-poi_1_2/npoi_poi_1_2/model_npoi_summary.csv'): None},\n",
       "    'npoi_poi_2': {PosixPath('/Users/tarlisportela/Downloads/sample/results/FoursquareNYC/NPOI_poi_1_2/NPOI-poi_1_2/npoi_poi_2/model_npoi_summary.csv'): None},\n",
       "    'npoi_poi_1': {PosixPath('/Users/tarlisportela/Downloads/sample/results/FoursquareNYC/NPOI_poi_1_2/NPOI-poi_1_2/npoi_poi_1/model_npoi_summary.csv'): None}},\n",
       "   PosixPath('/Users/tarlisportela/Downloads/sample/results/FoursquareNYC/NPOI_poi_1_2/NPOI_poi_1_2.txt'): None},\n",
       "  'R': {PosixPath('/Users/tarlisportela/Downloads/sample/results/FoursquareNYC/R/R.txt'): None,\n",
       "   'model': {PosixPath('/Users/tarlisportela/Downloads/sample/results/FoursquareNYC/R/model/model_mrf_summary.csv'): None,\n",
       "    PosixPath('/Users/tarlisportela/Downloads/sample/results/FoursquareNYC/R/model/model_mmlp_summary.csv'): None,\n",
       "    PosixPath('/Users/tarlisportela/Downloads/sample/results/FoursquareNYC/R/model/model_msvc_summary.csv'): None}},\n",
       "  'U': {PosixPath('/Users/tarlisportela/Downloads/sample/results/FoursquareNYC/U/U.txt'): None,\n",
       "   'model': {PosixPath('/Users/tarlisportela/Downloads/sample/results/FoursquareNYC/U/model/model_mrf_summary.csv'): None,\n",
       "    PosixPath('/Users/tarlisportela/Downloads/sample/results/FoursquareNYC/U/model/model_mmlp_summary.csv'): None,\n",
       "    PosixPath('/Users/tarlisportela/Downloads/sample/results/FoursquareNYC/U/model/model_msvc_summary.csv'): None}},\n",
       "  'HpL': {PosixPath('/Users/tarlisportela/Downloads/sample/results/FoursquareNYC/HpL/HpL.txt'): None,\n",
       "   'model': {PosixPath('/Users/tarlisportela/Downloads/sample/results/FoursquareNYC/HpL/model/model_mrf_summary.csv'): None,\n",
       "    PosixPath('/Users/tarlisportela/Downloads/sample/results/FoursquareNYC/HpL/model/model_mmlp_summary.csv'): None,\n",
       "    PosixPath('/Users/tarlisportela/Downloads/sample/results/FoursquareNYC/HpL/model/model_msvc_summary.csv'): None}},\n",
       "  'MARC': {PosixPath('/Users/tarlisportela/Downloads/sample/results/FoursquareNYC/MARC/MARC.txt'): None},\n",
       "  'MARC_average': {PosixPath('/Users/tarlisportela/Downloads/sample/results/FoursquareNYC/MARC_average/MARC_average.txt'): None},\n",
       "  'Tulvae_poi': {'Tulvae': {PosixPath('/Users/tarlisportela/Downloads/sample/results/FoursquareNYC/Tulvae_poi/Tulvae/model_tulvae_summary.csv'): None},\n",
       "   PosixPath('/Users/tarlisportela/Downloads/sample/results/FoursquareNYC/Tulvae_poi/Tulvae_poi.txt'): None},\n",
       "  'Bituler_space': {'Bituler': {PosixPath('/Users/tarlisportela/Downloads/sample/results/FoursquareNYC/Bituler_space/Bituler/model_txgb_summary.csv'): None},\n",
       "   PosixPath('/Users/tarlisportela/Downloads/sample/results/FoursquareNYC/Bituler_space/Bituler_space.txt'): None},\n",
       "  'H': {PosixPath('/Users/tarlisportela/Downloads/sample/results/FoursquareNYC/H/H.txt'): None,\n",
       "   'model': {PosixPath('/Users/tarlisportela/Downloads/sample/results/FoursquareNYC/H/model/model_mrf_summary.csv'): None,\n",
       "    PosixPath('/Users/tarlisportela/Downloads/sample/results/FoursquareNYC/H/model/model_mmlp_summary.csv'): None,\n",
       "    PosixPath('/Users/tarlisportela/Downloads/sample/results/FoursquareNYC/H/model/model_msvc_summary.csv'): None}},\n",
       "  'SMLD': {PosixPath('/Users/tarlisportela/Downloads/sample/results/FoursquareNYC/SMLD/SMLD.txt'): None},\n",
       "  'HpT66': {'model': {PosixPath('/Users/tarlisportela/Downloads/sample/results/FoursquareNYC/HpT66/model/model_mrf_summary.csv'): None,\n",
       "    PosixPath('/Users/tarlisportela/Downloads/sample/results/FoursquareNYC/HpT66/model/model_mmlp_summary.csv'): None,\n",
       "    PosixPath('/Users/tarlisportela/Downloads/sample/results/FoursquareNYC/HpT66/model/model_msvc_summary.csv'): None},\n",
       "   PosixPath('/Users/tarlisportela/Downloads/sample/results/FoursquareNYC/HpT66/HpT66.txt'): None},\n",
       "  'Dodge': {PosixPath('/Users/tarlisportela/Downloads/sample/results/FoursquareNYC/Dodge/Dodge.txt'): None},\n",
       "  'Tulvae_space': {'Tulvae': {PosixPath('/Users/tarlisportela/Downloads/sample/results/FoursquareNYC/Tulvae_space/Tulvae/model_tulvae_summary.csv'): None},\n",
       "   PosixPath('/Users/tarlisportela/Downloads/sample/results/FoursquareNYC/Tulvae_space/Tulvae_space.txt'): None},\n",
       "  'UT75': {'model': {PosixPath('/Users/tarlisportela/Downloads/sample/results/FoursquareNYC/UT75/model/model_mrf_summary.csv'): None,\n",
       "    PosixPath('/Users/tarlisportela/Downloads/sample/results/FoursquareNYC/UT75/model/model_mmlp_summary.csv'): None,\n",
       "    PosixPath('/Users/tarlisportela/Downloads/sample/results/FoursquareNYC/UT75/model/model_msvc_summary.csv'): None},\n",
       "   PosixPath('/Users/tarlisportela/Downloads/sample/results/FoursquareNYC/UT75/UT75.txt'): None},\n",
       "  'Bituler_poi': {'Bituler': {PosixPath('/Users/tarlisportela/Downloads/sample/results/FoursquareNYC/Bituler_poi/Bituler/model_txgb_summary.csv'): None},\n",
       "   PosixPath('/Users/tarlisportela/Downloads/sample/results/FoursquareNYC/Bituler_poi/Bituler_poi.txt'): None},\n",
       "  'SMD': {PosixPath('/Users/tarlisportela/Downloads/sample/results/FoursquareNYC/SMD/SMD.txt'): None},\n",
       "  'POI_poi_1_2_3': {PosixPath('/Users/tarlisportela/Downloads/sample/results/FoursquareNYC/POI_poi_1_2_3/POI_poi_1_2_3.txt'): None,\n",
       "   'POI-poi_1_2_3': {'poi_poi_3': {PosixPath('/Users/tarlisportela/Downloads/sample/results/FoursquareNYC/POI_poi_1_2_3/POI-poi_1_2_3/poi_poi_3/model_poi_summary.csv'): None},\n",
       "    'poi_poi_2': {PosixPath('/Users/tarlisportela/Downloads/sample/results/FoursquareNYC/POI_poi_1_2_3/POI-poi_1_2_3/poi_poi_2/model_poi_summary.csv'): None},\n",
       "    'poi_poi_1_2_3': {PosixPath('/Users/tarlisportela/Downloads/sample/results/FoursquareNYC/POI_poi_1_2_3/POI-poi_1_2_3/poi_poi_1_2_3/model_poi_summary.csv'): None},\n",
       "    'poi_poi_1': {PosixPath('/Users/tarlisportela/Downloads/sample/results/FoursquareNYC/POI_poi_1_2_3/POI-poi_1_2_3/poi_poi_1/model_poi_summary.csv'): None}}},\n",
       "  'POI_poi_1': {PosixPath('/Users/tarlisportela/Downloads/sample/results/FoursquareNYC/POI_poi_1/POI_poi_1.txt'): None,\n",
       "   'POI-poi_1': {'poi_poi_1': {PosixPath('/Users/tarlisportela/Downloads/sample/results/FoursquareNYC/POI_poi_1/POI-poi_1/poi_poi_1/model_poi_summary.csv'): None}}},\n",
       "  'MM': {PosixPath('/Users/tarlisportela/Downloads/sample/results/FoursquareNYC/MM/MM.txt'): None},\n",
       "  'SML': {PosixPath('/Users/tarlisportela/Downloads/sample/results/FoursquareNYC/SML/SML.txt'): None},\n",
       "  'MARC_add_gru': {PosixPath('/Users/tarlisportela/Downloads/sample/results/FoursquareNYC/MARC_add_gru/MARC_add_gru.txt'): None},\n",
       "  'WNPOI_poi_1': {PosixPath('/Users/tarlisportela/Downloads/sample/results/FoursquareNYC/WNPOI_poi_1/WNPOI_poi_1.txt'): None,\n",
       "   'WNPOI-poi_1': {'wnpoi_poi_1': {PosixPath('/Users/tarlisportela/Downloads/sample/results/FoursquareNYC/WNPOI_poi_1/WNPOI-poi_1/wnpoi_poi_1/model_wnpoi_summary.csv'): None}}},\n",
       "  'HT50': {PosixPath('/Users/tarlisportela/Downloads/sample/results/FoursquareNYC/HT50/HT50.txt'): None},\n",
       "  'M': {PosixPath('/Users/tarlisportela/Downloads/sample/results/FoursquareNYC/M/M.txt'): None},\n",
       "  'TXGB': {PosixPath('/Users/tarlisportela/Downloads/sample/results/FoursquareNYC/TXGB/TXGB.txt'): None,\n",
       "   'TXGB': {PosixPath('/Users/tarlisportela/Downloads/sample/results/FoursquareNYC/TXGB/TXGB/model_txgb_summary.csv'): None}},\n",
       "  'RL': {'model': {PosixPath('/Users/tarlisportela/Downloads/sample/results/FoursquareNYC/RL/model/model_mrf_summary.csv'): None,\n",
       "    PosixPath('/Users/tarlisportela/Downloads/sample/results/FoursquareNYC/RL/model/model_mmlp_summary.csv'): None,\n",
       "    PosixPath('/Users/tarlisportela/Downloads/sample/results/FoursquareNYC/RL/model/model_msvc_summary.csv'): None},\n",
       "   PosixPath('/Users/tarlisportela/Downloads/sample/results/FoursquareNYC/RL/RL.txt'): None},\n",
       "  'NPOI_poi_1': {'NPOI-poi_1': {'npoi_poi_1': {PosixPath('/Users/tarlisportela/Downloads/sample/results/FoursquareNYC/NPOI_poi_1/NPOI-poi_1/npoi_poi_1/model_npoi_summary.csv'): None}},\n",
       "   PosixPath('/Users/tarlisportela/Downloads/sample/results/FoursquareNYC/NPOI_poi_1/NPOI_poi_1.txt'): None},\n",
       "  'Zheng': {PosixPath('/Users/tarlisportela/Downloads/sample/results/FoursquareNYC/Zheng/Zheng.txt'): None}},\n",
       " 'TESTE': {'Bituler_poi': {'Bituler': {PosixPath('/Users/tarlisportela/Downloads/sample/results/TESTE/Bituler_poi/Bituler/model_txgb_summary.csv'): None},\n",
       "   PosixPath('/Users/tarlisportela/Downloads/sample/results/TESTE/Bituler_poi/Bituler_poi.txt'): None}}}"
      ]
     },
     "execution_count": 111,
     "metadata": {},
     "output_type": "execute_result"
    }
   ],
   "source": [
    "ls = listpath(respath, patterns)\n",
    "ls"
   ]
  },
  {
   "cell_type": "code",
   "execution_count": 115,
   "metadata": {},
   "outputs": [
    {
     "name": "stdout",
     "output_type": "stream",
     "text": [
      "FoursquareNYC\n",
      " -  MML\n",
      " -   -  /Users/tarlisportela/Downloads/sample/results/FoursquareNYC/MML/MML.txt\n",
      " -  MMp\n",
      " -   -  /Users/tarlisportela/Downloads/sample/results/FoursquareNYC/MMp/MMp.txt\n",
      " -  MARC_150_add_gru\n",
      " -   -  /Users/tarlisportela/Downloads/sample/results/FoursquareNYC/MARC_150_add_gru/MARC_150_add_gru.txt\n",
      " -  Xiao\n",
      " -   -  /Users/tarlisportela/Downloads/sample/results/FoursquareNYC/Xiao/Xiao.txt\n",
      " -  MMpL\n",
      " -   -  /Users/tarlisportela/Downloads/sample/results/FoursquareNYC/MMpL/MMpL.txt\n",
      " -  SM\n",
      " -   -  /Users/tarlisportela/Downloads/sample/results/FoursquareNYC/SM/SM.txt\n",
      " -  DeepeST\n",
      " -   -  DeepeST\n",
      " -   -  /Users/tarlisportela/Downloads/sample/results/FoursquareNYC/DeepeST/DeepeST.txt\n",
      " -  HL\n",
      " -   -  /Users/tarlisportela/Downloads/sample/results/FoursquareNYC/HL/HL.txt\n",
      " -   -  model\n",
      " -  Hp\n",
      " -   -  model\n",
      " -   -  /Users/tarlisportela/Downloads/sample/results/FoursquareNYC/Hp/Hp.txt\n",
      " -  WNPOI_space_1_2_3_4\n",
      " -   -  /Users/tarlisportela/Downloads/sample/results/FoursquareNYC/WNPOI_space_1_2_3_4/WNPOI_space_1_2_3_4.txt\n",
      " -  TRF\n",
      " -   -  TRF\n",
      " -   -  /Users/tarlisportela/Downloads/sample/results/FoursquareNYC/TRF/TRF.txt\n",
      " -  HpLT50\n",
      " -   -  /Users/tarlisportela/Downloads/sample/results/FoursquareNYC/HpLT50/HpLT50.txt\n",
      " -   -  model\n",
      " -  NPOI_poi_1_2\n",
      " -   -  NPOI-poi_1_2\n",
      " -   -  /Users/tarlisportela/Downloads/sample/results/FoursquareNYC/NPOI_poi_1_2/NPOI_poi_1_2.txt\n",
      " -  R\n",
      " -   -  /Users/tarlisportela/Downloads/sample/results/FoursquareNYC/R/R.txt\n",
      " -   -  model\n",
      " -  U\n",
      " -   -  /Users/tarlisportela/Downloads/sample/results/FoursquareNYC/U/U.txt\n",
      " -   -  model\n",
      " -  HpL\n",
      " -   -  /Users/tarlisportela/Downloads/sample/results/FoursquareNYC/HpL/HpL.txt\n",
      " -   -  model\n",
      " -  MARC\n",
      " -   -  /Users/tarlisportela/Downloads/sample/results/FoursquareNYC/MARC/MARC.txt\n",
      " -  MARC_average\n",
      " -   -  /Users/tarlisportela/Downloads/sample/results/FoursquareNYC/MARC_average/MARC_average.txt\n",
      " -  Tulvae_poi\n",
      " -   -  Tulvae\n",
      " -   -  /Users/tarlisportela/Downloads/sample/results/FoursquareNYC/Tulvae_poi/Tulvae_poi.txt\n",
      " -  Bituler_space\n",
      " -   -  Bituler\n",
      " -   -  /Users/tarlisportela/Downloads/sample/results/FoursquareNYC/Bituler_space/Bituler_space.txt\n",
      " -  H\n",
      " -   -  /Users/tarlisportela/Downloads/sample/results/FoursquareNYC/H/H.txt\n",
      " -   -  model\n",
      " -  SMLD\n",
      " -   -  /Users/tarlisportela/Downloads/sample/results/FoursquareNYC/SMLD/SMLD.txt\n",
      " -  HpT66\n",
      " -   -  model\n",
      " -   -  /Users/tarlisportela/Downloads/sample/results/FoursquareNYC/HpT66/HpT66.txt\n",
      " -  Dodge\n",
      " -   -  /Users/tarlisportela/Downloads/sample/results/FoursquareNYC/Dodge/Dodge.txt\n",
      " -  Tulvae_space\n",
      " -   -  Tulvae\n",
      " -   -  /Users/tarlisportela/Downloads/sample/results/FoursquareNYC/Tulvae_space/Tulvae_space.txt\n",
      " -  UT75\n",
      " -   -  model\n",
      " -   -  /Users/tarlisportela/Downloads/sample/results/FoursquareNYC/UT75/UT75.txt\n",
      " -  Bituler_poi\n",
      " -   -  Bituler\n",
      " -   -  /Users/tarlisportela/Downloads/sample/results/FoursquareNYC/Bituler_poi/Bituler_poi.txt\n",
      " -  SMD\n",
      " -   -  /Users/tarlisportela/Downloads/sample/results/FoursquareNYC/SMD/SMD.txt\n",
      " -  POI_poi_1_2_3\n",
      " -   -  /Users/tarlisportela/Downloads/sample/results/FoursquareNYC/POI_poi_1_2_3/POI_poi_1_2_3.txt\n",
      " -   -  POI-poi_1_2_3\n",
      " -  POI_poi_1\n",
      " -   -  /Users/tarlisportela/Downloads/sample/results/FoursquareNYC/POI_poi_1/POI_poi_1.txt\n",
      " -   -  POI-poi_1\n",
      " -  MM\n",
      " -   -  /Users/tarlisportela/Downloads/sample/results/FoursquareNYC/MM/MM.txt\n",
      " -  SML\n",
      " -   -  /Users/tarlisportela/Downloads/sample/results/FoursquareNYC/SML/SML.txt\n",
      " -  MARC_add_gru\n",
      " -   -  /Users/tarlisportela/Downloads/sample/results/FoursquareNYC/MARC_add_gru/MARC_add_gru.txt\n",
      " -  WNPOI_poi_1\n",
      " -   -  /Users/tarlisportela/Downloads/sample/results/FoursquareNYC/WNPOI_poi_1/WNPOI_poi_1.txt\n",
      " -   -  WNPOI-poi_1\n",
      " -  HT50\n",
      " -   -  /Users/tarlisportela/Downloads/sample/results/FoursquareNYC/HT50/HT50.txt\n",
      " -  M\n",
      " -   -  /Users/tarlisportela/Downloads/sample/results/FoursquareNYC/M/M.txt\n",
      " -  TXGB\n",
      " -   -  /Users/tarlisportela/Downloads/sample/results/FoursquareNYC/TXGB/TXGB.txt\n",
      " -   -  TXGB\n",
      " -  RL\n",
      " -   -  model\n",
      " -   -  /Users/tarlisportela/Downloads/sample/results/FoursquareNYC/RL/RL.txt\n",
      " -  NPOI_poi_1\n",
      " -   -  NPOI-poi_1\n",
      " -   -  /Users/tarlisportela/Downloads/sample/results/FoursquareNYC/NPOI_poi_1/NPOI_poi_1.txt\n",
      " -  Zheng\n",
      " -   -  /Users/tarlisportela/Downloads/sample/results/FoursquareNYC/Zheng/Zheng.txt\n",
      "TESTE\n",
      " -  Bituler_poi\n",
      " -   -  Bituler\n",
      " -   -  /Users/tarlisportela/Downloads/sample/results/TESTE/Bituler_poi/Bituler_poi.txt\n"
     ]
    }
   ],
   "source": [
    "#ls[0].keys(), ls[0]['FoursquareNYC'][0].keys()\n",
    "for dataset in ls.keys():\n",
    "    print(dataset)\n",
    "    for one in ls[dataset].keys():\n",
    "        print(' - ', one)\n",
    "        for two in ls[dataset][one].keys():\n",
    "            print(' - ', ' - ', two)"
   ]
  },
  {
   "cell_type": "code",
   "execution_count": 26,
   "metadata": {},
   "outputs": [
    {
     "data": {
      "text/plain": [
       "['results', 'FoursquareNYC', 'HL', 'HL']"
      ]
     },
     "execution_count": 26,
     "metadata": {},
     "output_type": "execute_result"
    }
   ],
   "source": [
    "from pathlib import Path\n",
    "def decodeURL(ijk):\n",
    "    path = Path(ijk)\n",
    "    parts = list(path.parts[-4:])\n",
    "    parts[-1] = path.stem\n",
    "    \n",
    "    return parts\n",
    "    if parts[-1] != parts[-2]:\n",
    "        return None\n",
    "    else:\n",
    "        return parts\n",
    "    rpos = ijk.find('run')\n",
    "    path = ijk[:ijk.find(os.path.sep, rpos+5)]\n",
    "\n",
    "    if ijk.endswith('classification_times.csv'):\n",
    "        statsf = ijk\n",
    "        files = glob.glob(os.path.join(path, '*-*.txt'))\n",
    "        ijk = files[0] if len(files) > 0 else None\n",
    "    else:\n",
    "        files = glob.glob(os.path.join(path, '*', 'classification_times.csv'))\n",
    "        if len(files) > 0:\n",
    "            statsf = files[0]\n",
    "        else:\n",
    "            statsf = None\n",
    "\n",
    "    if statsf:\n",
    "        model = os.path.dirname(statsf)\n",
    "        model = model[model.rfind(os.path.sep)+1:]\n",
    "    else:\n",
    "        model = 'model'\n",
    "\n",
    "    method = path[path.rfind(os.path.sep)+1:]\n",
    "    subset = method.split('-')[-1]\n",
    "    method = method.split('-')[0]\n",
    "\n",
    "    run = path[rpos:rpos+4]\n",
    "    run = (run)[3:]\n",
    "\n",
    "    prefix = os.path.basename(path[:rpos-1])\n",
    "\n",
    "    subsubset = subset\n",
    "\n",
    "    random = '1' if '-' not in model else model.split('-')[-1]\n",
    "\n",
    "    return run, random, method, subset, subsubset, prefix, model, path, ijk, statsf\n",
    "    \n",
    "decodeURL(files[1])"
   ]
  },
  {
   "cell_type": "markdown",
   "metadata": {},
   "source": [
    "xxx"
   ]
  },
  {
   "cell_type": "markdown",
   "metadata": {
    "tags": []
   },
   "source": [
    "### 2. Using separated functions\n"
   ]
  },
  {
   "cell_type": "code",
   "execution_count": 4,
   "metadata": {
    "collapsed": true,
    "jupyter": {
     "outputs_hidden": true
    },
    "tags": []
   },
   "outputs": [
    {
     "data": {
      "image/png": "[encoded data removed]",
      "text/plain": [
       "<Figure size 1440x360 with 2 Axes>"
      ]
     },
     "execution_count": 4,
     "metadata": {},
     "output_type": "execute_result"
    },
    {
     "data": {
      "image/png": "[encoded data removed]",
      "text/plain": [
       "<Figure size 1440x360 with 2 Axes>"
      ]
     },
     "metadata": {
      "needs_background": "light"
     },
     "output_type": "display_data"
    }
   ],
   "source": []
  },
  {
   "cell_type": "code",
   "execution_count": 11,
   "metadata": {},
   "outputs": [],
   "source": []
  },
  {
   "cell_type": "code",
   "execution_count": 14,
   "metadata": {},
   "outputs": [
    {
     "data": {
      "text/plain": [
       "<function matview.plot.critical_difference.render(df, column=None, methods_order=None)>"
      ]
     },
     "execution_count": 14,
     "metadata": {},
     "output_type": "execute_result"
    }
   ],
   "source": []
  },
  {
   "cell_type": "markdown",
   "metadata": {},
   "source": [
    "\\# By Tarlis Portela (2023)"
   ]
  }
 ],
 "metadata": {
  "kernelspec": {
   "display_name": "Python 3 (ipykernel)",
   "language": "python",
   "name": "python3"
  },
  "language_info": {
   "codemirror_mode": {
    "name": "ipython",
    "version": 3
   },
   "file_extension": ".py",
   "mimetype": "text/x-python",
   "name": "python",
   "nbconvert_exporter": "python",
   "pygments_lexer": "ipython3",
   "version": "3.9.13"
  }
 },
 "nbformat": 4,
 "nbformat_minor": 4
}
